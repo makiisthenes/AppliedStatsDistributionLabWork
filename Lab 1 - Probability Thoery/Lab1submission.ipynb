{
 "cells": [
  {
   "cell_type": "markdown",
   "id": "27d0cee5-204d-45da-be3e-c788fc3214da",
   "metadata": {},
   "source": [
    "## Lab 1 Submission\n",
    "\n",
    "\n",
    "#### Q1)"
   ]
  },
  {
   "cell_type": "code",
   "execution_count": 3,
   "id": "8255e8bf-188d-40d9-9dd2-3b7f77d41c9f",
   "metadata": {},
   "outputs": [
    {
     "name": "stdout",
     "output_type": "stream",
     "text": [
      "Set C has 6 elements\n",
      "Set A has 3 elements\n",
      "The total of both sets a: 3 and set b: 3 should add up to set c 6\n",
      "<class 'set'>\n"
     ]
    }
   ],
   "source": [
    "# Q1) Counting Measure\n",
    "\n",
    "def counting_measure(set_elem: set):\n",
    "    \"\"\" Counting elems in the set. \"\"\"\n",
    "    if type(set_elem) == set:\n",
    "        # print(f\"Set has {len(set_elem)} elements\")\n",
    "        return len(set_elem)\n",
    "    raise Exception(\"Input is not of type set\")\n",
    "\n",
    "\n",
    "# Testing additivity on disjointed sets.\n",
    "\n",
    "a = {'a', 'b', 'c'}\n",
    "b = {'d','e','f'}\n",
    "c = a.union(b)  # union of both a and b, 1,2,3,4,5,6,7,8\n",
    "# print(type(c))\n",
    "print(f\"Set C has {counting_measure(c)} elements\")\n",
    "print(f\"Set A has {counting_measure(a)} elements\")\n",
    "\n",
    "counting_measure(a)\n",
    "counting_measure(b)\n",
    "print(f\"The total of both sets a: {counting_measure(a)} and set b: {counting_measure(b)} should add up to set c {counting_measure(c)}\")\n",
    "\n",
    "# Therefore the additivity on the disjoint sets adds up to the union,\n",
    "# and thus the counting measure works.\n",
    "\n",
    "print(type(a))"
   ]
  },
  {
   "cell_type": "markdown",
   "id": "a2085379-02d1-49a1-9196-92e9fc0c8527",
   "metadata": {},
   "source": [
    "#### Q2 Intervals"
   ]
  },
  {
   "cell_type": "code",
   "execution_count": 4,
   "id": "0f38351e-eb26-49f4-b6c3-cb5270a28b3a",
   "metadata": {},
   "outputs": [
    {
     "name": "stdout",
     "output_type": "stream",
     "text": [
      "Length of interval is: 2.1\n"
     ]
    }
   ],
   "source": [
    "class Interval:\n",
    "    def __init__(self, start:float, end:float):\n",
    "        if type(start) not in [float, int] or type(end) not in [float, int]:\n",
    "            raise Exception(\"Input type is not a float or int.\")\n",
    "        self.start = start\n",
    "        self.end = end\n",
    "\n",
    "    def get_start(self):\n",
    "        \"\"\" Get start point of the interval\"\"\"\n",
    "        return self.start\n",
    "\n",
    "    def get_end(self):\n",
    "        \"\"\" Get end point of the interval\"\"\"\n",
    "        return self.end\n",
    "\n",
    "    \n",
    "    # implement length measure.\n",
    "    def length_measure(self):\n",
    "        \"\"\" Measure length of the interval \"\"\"\n",
    "        return self.end - self.start\n",
    "\n",
    "\n",
    "i = Interval(1.4, 3.5)\n",
    "length = i.length_measure()\n",
    "print(f\"Length of interval is: {length}\")\n",
    "    "
   ]
  },
  {
   "cell_type": "markdown",
   "id": "f35c0259-8b68-42e5-a9a0-adc8a26ceb3c",
   "metadata": {},
   "source": [
    "#### Q3 Exponential Distribution"
   ]
  },
  {
   "cell_type": "code",
   "execution_count": 5,
   "id": "ab72680b-330a-45b3-9bbe-7e5ea5703a84",
   "metadata": {},
   "outputs": [],
   "source": [
    "import math\n",
    "import numpy as np\n",
    "from scipy.stats import expon\n",
    "import matplotlib.pyplot as plt"
   ]
  },
  {
   "cell_type": "code",
   "execution_count": 6,
   "id": "347ea46f-2d59-4715-b8b4-e23b78cec6ba",
   "metadata": {},
   "outputs": [
    {
     "name": "stdout",
     "output_type": "stream",
     "text": [
      "The probability mass for the range, 0 - 1, is 0.8646647167633873\n",
      "The probability mass for the range, 1 - 1, is 0\n",
      "The probability mass for the range, 1 - 10, is 0.13533528117545912\n",
      "The probability mass for the range, 0 - inf, is 1.0\n"
     ]
    }
   ],
   "source": [
    "def get_pm(interval:Interval):\n",
    "    \"\"\" Get probability mass of the interval object for the exponential graph, with lambda defined as 2\"\"\"\n",
    "    if type(interval) != Interval:\n",
    "        raise Exception(\"Interval inputted is not of type Interval\")\n",
    "\n",
    "    # Obtain interval probability measure calc.\n",
    "    start_point = interval.get_start()\n",
    "    end_point = interval.get_end()\n",
    "    intervals  = end_point-start_point\n",
    "    if intervals == 0:\n",
    "        return 0;  # The probability mass at one point is 0.\n",
    "    \n",
    "    # Generate exponential graph with lamda set to 2 with correct config.\n",
    "    # according to doc, scale = 1 / lambda \n",
    "    lambda_val = 2\n",
    "    scale = 1/ lambda_val\n",
    "\n",
    "    expon_start = expon.cdf(start_point, scale=scale)\n",
    "    expon_end = expon.cdf(end_point, scale=scale)\n",
    "    # if len(expon_end - expon_start) <= 0:\n",
    "    #     raise Exception(\"Range inputted cannot compute correct probability mass\")\n",
    "\n",
    "    probability_mass = expon_end - expon_start\n",
    "    # We do not even need to compute the graph, or do any calculation.\n",
    "    return probability_mass\n",
    "    \n",
    "# a)\n",
    "a_interval = Interval(0, 1)\n",
    "pm_a = get_pm(a_interval)\n",
    "print(f\"The probability mass for the range, 0 - 1, is {pm_a}\")\n",
    "\n",
    "# b)\n",
    "b_interval = Interval(1,1)\n",
    "pm_b = get_pm(b_interval)\n",
    "print(f\"The probability mass for the range, 1 - 1, is {pm_b}\")\n",
    "\n",
    "# c)\n",
    "c_interval = Interval(1, 10)\n",
    "pm_c = get_pm(c_interval)\n",
    "print(f\"The probability mass for the range, 1 - 10, is {pm_c}\")\n",
    "\n",
    "# d)\n",
    "d_interval = Interval(0, float('inf'))  # math.inf  # should be 1, but coming as a nan.\n",
    "pm_d = get_pm(d_interval)\n",
    "print(f\"The probability mass for the range, 0 - inf, is {pm_d}\")\n"
   ]
  },
  {
   "cell_type": "code",
   "execution_count": 7,
   "id": "6a867641-8843-4831-ada7-8a08877148d3",
   "metadata": {},
   "outputs": [
    {
     "name": "stdout",
     "output_type": "stream",
     "text": [
      "My answers seem to make sense visually, because, at the specific locations, that the range is asked for, it matches to the y coordinate, which is the CDF.\n"
     ]
    },
    {
     "data": {
      "image/png": "[encoded data removed]",
      "text/plain": [
       "<Figure size 640x480 with 1 Axes>"
      ]
     },
     "metadata": {},
     "output_type": "display_data"
    }
   ],
   "source": [
    "x = np.linspace(0,10,100)  # Range 0-3, steps 100\n",
    "lambda_val = 2\n",
    "expon_y = expon.cdf(x, scale=0.51/lambda_val)\n",
    "#print(expon_y[-1])\n",
    "#print(x[:10], y[:10])\n",
    "plt.plot(x, expon_y, label=\"Expon Graph\")\n",
    "\n",
    "print(\"My answers seem to make sense visually, because, at the specific locations, that the range is asked for, it matches to the y coordinate, which is the CDF.\")"
   ]
  },
  {
   "cell_type": "markdown",
   "id": "7ffb7008-6d38-4fca-bed9-48330553fd25",
   "metadata": {},
   "source": [
    "------\n",
    "#### Q4"
   ]
  },
  {
   "cell_type": "code",
   "execution_count": 8,
   "id": "2f682024-8297-4244-a389-2c450f4e173d",
   "metadata": {},
   "outputs": [
    {
     "name": "stdout",
     "output_type": "stream",
     "text": [
      "a integral: (0.8646647167633873, 9.599706771317021e-15)\n",
      "b integral: (0.0, 0.0)\n",
      "c integral: (0.13533528117545912, 2.4502060294750603e-09)\n",
      "d integral: (0.9999999999999999, 1.5470064009984758e-10)\n"
     ]
    }
   ],
   "source": [
    "from scipy.integrate import quad\n",
    "from scipy.stats import expon  # import distribution.\n",
    "\n",
    "def expon_pdf(x):\n",
    "    \"\"\" PDF of expon, evaluated from x, using quad to compute following integrals\"\"\"\n",
    "    # what does it mean evaluated at x?\n",
    "    # print(*args)\n",
    "    lambda_val = 2\n",
    "    scale = 1/ lambda_val\n",
    "    expon_y = expon.pdf(x, scale=scale)\n",
    "    return expon_y\n",
    "\n",
    "\n",
    "# Integral of functon mapped from expon_pdf(5)\n",
    "\n",
    "def calc_integral_expon_pdf(x, lower, upper):\n",
    "    expon_lamda = lambda x: expon_pdf(x)\n",
    "    integral_val = quad(func=expon_lamda, a = lower, b = upper)\n",
    "    return integral_val\n",
    "\n",
    "\n",
    "# 4a)\n",
    "a_int = calc_integral_expon_pdf(1, 0 , 1)\n",
    "print(f\"a integral: {a_int}\")\n",
    "\n",
    "# 4b)\n",
    "b_int = calc_integral_expon_pdf(1, 1 , 1)\n",
    "print(f\"b integral: {b_int}\")\n",
    "\n",
    "# 4c) \n",
    "c_int = calc_integral_expon_pdf(1, 1 , 10)\n",
    "print(f\"c integral: {c_int}\")\n",
    "\n",
    "# 4d)\n",
    "d_int = calc_integral_expon_pdf(1, 0, float('inf'))\n",
    "print(f\"d integral: {d_int}\")"
   ]
  },
  {
   "cell_type": "markdown",
   "id": "a4b1479f-745a-4c13-a80e-0fb1a74c59c9",
   "metadata": {},
   "source": [
    "The answers obtain are the same as the previous question, because, we calculated the probability measure of the intervals in Q3) which is the CDF between the two points, \n",
    "as the probability measure is continuous.\n",
    "\n",
    "The expon_pdf is an integral on the pdf, which is the cdf between the ranges given, so it makes sense to be the same as q4.\n"
   ]
  },
  {
   "cell_type": "markdown",
   "id": "43fab087-ae6a-4d49-b3fe-67c13ee17d8b",
   "metadata": {},
   "source": [
    "#### End of Submission 1  | 12/10/2023\n",
    "------"
   ]
  }
 ],
 "metadata": {
  "kernelspec": {
   "display_name": "Python 3 (ipykernel)",
   "language": "python",
   "name": "python3"
  },
  "language_info": {
   "codemirror_mode": {
    "name": "ipython",
    "version": 3
   },
   "file_extension": ".py",
   "mimetype": "text/x-python",
   "name": "python",
   "nbconvert_exporter": "python",
   "pygments_lexer": "ipython3",
   "version": "3.10.13"
  }
 },
 "nbformat": 4,
 "nbformat_minor": 5
}
