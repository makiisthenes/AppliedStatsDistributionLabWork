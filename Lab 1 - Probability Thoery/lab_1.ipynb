{
 "cells": [
  {
   "cell_type": "markdown",
   "id": "a8493613-b5d6-4e00-a403-3f4e1d26fdd7",
   "metadata": {},
   "source": [
    "## 1. Import the data"
   ]
  },
  {
   "cell_type": "code",
   "execution_count": 1,
   "id": "3be3f62d-9144-46ba-9b11-a3a795a65666",
   "metadata": {},
   "outputs": [
    {
     "data": {
      "text/html": [
       "<div>\n",
       "<style scoped>\n",
       "    .dataframe tbody tr th:only-of-type {\n",
       "        vertical-align: middle;\n",
       "    }\n",
       "\n",
       "    .dataframe tbody tr th {\n",
       "        vertical-align: top;\n",
       "    }\n",
       "\n",
       "    .dataframe thead th {\n",
       "        text-align: right;\n",
       "    }\n",
       "</style>\n",
       "<table border=\"1\" class=\"dataframe\">\n",
       "  <thead>\n",
       "    <tr style=\"text-align: right;\">\n",
       "      <th></th>\n",
       "      <th>T03</th>\n",
       "      <th>Population growth and indicators of fertility and mortality</th>\n",
       "      <th>Unnamed: 2</th>\n",
       "      <th>Unnamed: 3</th>\n",
       "      <th>Unnamed: 4</th>\n",
       "      <th>Unnamed: 5</th>\n",
       "      <th>Unnamed: 6</th>\n",
       "    </tr>\n",
       "  </thead>\n",
       "  <tbody>\n",
       "    <tr>\n",
       "      <th>0</th>\n",
       "      <td>Region/Country/Area</td>\n",
       "      <td>NaN</td>\n",
       "      <td>Year</td>\n",
       "      <td>Series</td>\n",
       "      <td>Value</td>\n",
       "      <td>Footnotes</td>\n",
       "      <td>Source</td>\n",
       "    </tr>\n",
       "    <tr>\n",
       "      <th>1</th>\n",
       "      <td>1</td>\n",
       "      <td>Total, all countries or areas</td>\n",
       "      <td>2010</td>\n",
       "      <td>Population annual rate of increase (percent)</td>\n",
       "      <td>1.2</td>\n",
       "      <td>Data refers to a 5-year period preceding the r...</td>\n",
       "      <td>United Nations Population Division, New York, ...</td>\n",
       "    </tr>\n",
       "    <tr>\n",
       "      <th>2</th>\n",
       "      <td>1</td>\n",
       "      <td>Total, all countries or areas</td>\n",
       "      <td>2010</td>\n",
       "      <td>Total fertility rate (children per women)</td>\n",
       "      <td>2.6</td>\n",
       "      <td>Data refers to a 5-year period preceding the r...</td>\n",
       "      <td>United Nations Population Division, New York, ...</td>\n",
       "    </tr>\n",
       "    <tr>\n",
       "      <th>3</th>\n",
       "      <td>1</td>\n",
       "      <td>Total, all countries or areas</td>\n",
       "      <td>2010</td>\n",
       "      <td>Infant mortality for both sexes (per 1,000 liv...</td>\n",
       "      <td>41.0</td>\n",
       "      <td>Data refers to a 5-year period preceding the r...</td>\n",
       "      <td>United Nations Statistics Division, New York, ...</td>\n",
       "    </tr>\n",
       "    <tr>\n",
       "      <th>4</th>\n",
       "      <td>1</td>\n",
       "      <td>Total, all countries or areas</td>\n",
       "      <td>2010</td>\n",
       "      <td>Maternal mortality ratio (deaths per 100,000 p...</td>\n",
       "      <td>248</td>\n",
       "      <td>NaN</td>\n",
       "      <td>World Health Organization (WHO), the United Na...</td>\n",
       "    </tr>\n",
       "    <tr>\n",
       "      <th>5</th>\n",
       "      <td>1</td>\n",
       "      <td>Total, all countries or areas</td>\n",
       "      <td>2010</td>\n",
       "      <td>Life expectancy at birth for both sexes (years)</td>\n",
       "      <td>68.9</td>\n",
       "      <td>Data refers to a 5-year period preceding the r...</td>\n",
       "      <td>United Nations Population Division, New York, ...</td>\n",
       "    </tr>\n",
       "    <tr>\n",
       "      <th>6</th>\n",
       "      <td>1</td>\n",
       "      <td>Total, all countries or areas</td>\n",
       "      <td>2010</td>\n",
       "      <td>Life expectancy at birth for males (years)</td>\n",
       "      <td>66.7</td>\n",
       "      <td>Data refers to a 5-year period preceding the r...</td>\n",
       "      <td>United Nations Population Division, New York, ...</td>\n",
       "    </tr>\n",
       "    <tr>\n",
       "      <th>7</th>\n",
       "      <td>1</td>\n",
       "      <td>Total, all countries or areas</td>\n",
       "      <td>2010</td>\n",
       "      <td>Life expectancy at birth for females (years)</td>\n",
       "      <td>71.3</td>\n",
       "      <td>Data refers to a 5-year period preceding the r...</td>\n",
       "      <td>United Nations Population Division, New York, ...</td>\n",
       "    </tr>\n",
       "    <tr>\n",
       "      <th>8</th>\n",
       "      <td>1</td>\n",
       "      <td>Total, all countries or areas</td>\n",
       "      <td>2015</td>\n",
       "      <td>Population annual rate of increase (percent)</td>\n",
       "      <td>1.2</td>\n",
       "      <td>Data refers to a 5-year period preceding the r...</td>\n",
       "      <td>United Nations Population Division, New York, ...</td>\n",
       "    </tr>\n",
       "    <tr>\n",
       "      <th>9</th>\n",
       "      <td>1</td>\n",
       "      <td>Total, all countries or areas</td>\n",
       "      <td>2015</td>\n",
       "      <td>Total fertility rate (children per women)</td>\n",
       "      <td>2.5</td>\n",
       "      <td>Data refers to a 5-year period preceding the r...</td>\n",
       "      <td>United Nations Population Division, New York, ...</td>\n",
       "    </tr>\n",
       "    <tr>\n",
       "      <th>10</th>\n",
       "      <td>1</td>\n",
       "      <td>Total, all countries or areas</td>\n",
       "      <td>2015</td>\n",
       "      <td>Infant mortality for both sexes (per 1,000 liv...</td>\n",
       "      <td>33.9</td>\n",
       "      <td>Data refers to a 5-year period preceding the r...</td>\n",
       "      <td>United Nations Statistics Division, New York, ...</td>\n",
       "    </tr>\n",
       "    <tr>\n",
       "      <th>11</th>\n",
       "      <td>1</td>\n",
       "      <td>Total, all countries or areas</td>\n",
       "      <td>2015</td>\n",
       "      <td>Maternal mortality ratio (deaths per 100,000 p...</td>\n",
       "      <td>219</td>\n",
       "      <td>NaN</td>\n",
       "      <td>World Health Organization (WHO), the United Na...</td>\n",
       "    </tr>\n",
       "  </tbody>\n",
       "</table>\n",
       "</div>"
      ],
      "text/plain": [
       "                    T03  \\\n",
       "0   Region/Country/Area   \n",
       "1                     1   \n",
       "2                     1   \n",
       "3                     1   \n",
       "4                     1   \n",
       "5                     1   \n",
       "6                     1   \n",
       "7                     1   \n",
       "8                     1   \n",
       "9                     1   \n",
       "10                    1   \n",
       "11                    1   \n",
       "\n",
       "   Population growth and indicators of fertility and mortality Unnamed: 2  \\\n",
       "0                                                 NaN                Year   \n",
       "1                       Total, all countries or areas                2010   \n",
       "2                       Total, all countries or areas                2010   \n",
       "3                       Total, all countries or areas                2010   \n",
       "4                       Total, all countries or areas                2010   \n",
       "5                       Total, all countries or areas                2010   \n",
       "6                       Total, all countries or areas                2010   \n",
       "7                       Total, all countries or areas                2010   \n",
       "8                       Total, all countries or areas                2015   \n",
       "9                       Total, all countries or areas                2015   \n",
       "10                      Total, all countries or areas                2015   \n",
       "11                      Total, all countries or areas                2015   \n",
       "\n",
       "                                           Unnamed: 3 Unnamed: 4  \\\n",
       "0                                              Series      Value   \n",
       "1        Population annual rate of increase (percent)        1.2   \n",
       "2           Total fertility rate (children per women)        2.6   \n",
       "3   Infant mortality for both sexes (per 1,000 liv...       41.0   \n",
       "4   Maternal mortality ratio (deaths per 100,000 p...        248   \n",
       "5     Life expectancy at birth for both sexes (years)       68.9   \n",
       "6          Life expectancy at birth for males (years)       66.7   \n",
       "7        Life expectancy at birth for females (years)       71.3   \n",
       "8        Population annual rate of increase (percent)        1.2   \n",
       "9           Total fertility rate (children per women)        2.5   \n",
       "10  Infant mortality for both sexes (per 1,000 liv...       33.9   \n",
       "11  Maternal mortality ratio (deaths per 100,000 p...        219   \n",
       "\n",
       "                                           Unnamed: 5  \\\n",
       "0                                           Footnotes   \n",
       "1   Data refers to a 5-year period preceding the r...   \n",
       "2   Data refers to a 5-year period preceding the r...   \n",
       "3   Data refers to a 5-year period preceding the r...   \n",
       "4                                                 NaN   \n",
       "5   Data refers to a 5-year period preceding the r...   \n",
       "6   Data refers to a 5-year period preceding the r...   \n",
       "7   Data refers to a 5-year period preceding the r...   \n",
       "8   Data refers to a 5-year period preceding the r...   \n",
       "9   Data refers to a 5-year period preceding the r...   \n",
       "10  Data refers to a 5-year period preceding the r...   \n",
       "11                                                NaN   \n",
       "\n",
       "                                           Unnamed: 6  \n",
       "0                                              Source  \n",
       "1   United Nations Population Division, New York, ...  \n",
       "2   United Nations Population Division, New York, ...  \n",
       "3   United Nations Statistics Division, New York, ...  \n",
       "4   World Health Organization (WHO), the United Na...  \n",
       "5   United Nations Population Division, New York, ...  \n",
       "6   United Nations Population Division, New York, ...  \n",
       "7   United Nations Population Division, New York, ...  \n",
       "8   United Nations Population Division, New York, ...  \n",
       "9   United Nations Population Division, New York, ...  \n",
       "10  United Nations Statistics Division, New York, ...  \n",
       "11  World Health Organization (WHO), the United Na...  "
      ]
     },
     "execution_count": 1,
     "metadata": {},
     "output_type": "execute_result"
    }
   ],
   "source": [
    "import pandas as pd\n",
    "import numpy as np\n",
    "import matplotlib.pyplot as plt\n",
    "\n",
    "data_url = \"http://data.un.org/_Docs/SYB/CSV/SYB64_246_202110_Population%20Growth,%20Fertility%20and%20Mortality%20Indicators.csv\"\n",
    "\n",
    "df = pd.read_csv(data_url, encoding = \"ISO-8859-1\")\n",
    "\n",
    "df.head(12)"
   ]
  },
  {
   "cell_type": "markdown",
   "id": "367294e7-041c-4d97-a9f0-4f9e12edfa37",
   "metadata": {},
   "source": [
    "## 2. Select life expectancy data for countries and format it into a numpy array"
   ]
  },
  {
   "cell_type": "code",
   "execution_count": 6,
   "id": "e91fcd9c-2be7-4dce-8f89-f09a92e81c18",
   "metadata": {},
   "outputs": [
    {
     "name": "stdout",
     "output_type": "stream",
     "text": [
      "603\n"
     ]
    }
   ],
   "source": [
    "# Select country data only\n",
    "values = pd.DataFrame(df.iloc[625:,[2,3,4]])\n",
    "values.columns = ['Year', 'Series', 'Values']\n",
    "\n",
    "# Optional filter by year\n",
    "#values = values[values['Year']=='2020']\n",
    "# Select life expectancy data, \n",
    "# Make sure it is typed correctly\n",
    "# Turn it into a numpy array\n",
    "life_exp = values[values['Series']=='Life expectancy at birth for both sexes (years)']\n",
    "life_exp = life_exp['Values'].astype(float).to_numpy()\n",
    "N = life_exp.shape[0]\n",
    "print(N)"
   ]
  },
  {
   "cell_type": "markdown",
   "id": "aeeb21a0-87bc-4468-b449-160d396a9bd8",
   "metadata": {},
   "source": [
    "## 3. Centrality: mean and median\n",
    "\n",
    "The distribution is skewed to the left. This is reflected in the fact that the mean is significantly below the median."
   ]
  },
  {
   "cell_type": "code",
   "execution_count": 7,
   "id": "507b818c-3a78-430e-89b0-e2c435597198",
   "metadata": {},
   "outputs": [
    {
     "name": "stdout",
     "output_type": "stream",
     "text": [
      "Sample size: 603\n"
     ]
    },
    {
     "data": {
      "image/png": "[encoded data removed]",
      "text/plain": [
       "<Figure size 640x480 with 1 Axes>"
      ]
     },
     "metadata": {},
     "output_type": "display_data"
    }
   ],
   "source": [
    "print(\"Sample size: {}\".format(N))\n",
    "mean = np.mean(life_exp)\n",
    "median = np.median(life_exp)\n",
    "counts, bins = np.histogram(life_exp,int(N/15))\n",
    "plt.hist(bins[:-1], bins, weights=counts)\n",
    "plt.axvline(x=mean, color='red', label='Mean: {:.2f}'.format(mean))\n",
    "plt.axvline(x=median, color='yellow', label='Median: {:.2f}'.format(median))\n",
    "plt.legend()\n",
    "plt.show()"
   ]
  },
  {
   "cell_type": "markdown",
   "id": "249d46c8-9b78-406a-9a2b-6938af3aa35e",
   "metadata": {},
   "source": [
    "## 4. Dispersion: range, IQR and standard deviation"
   ]
  },
  {
   "cell_type": "code",
   "execution_count": 8,
   "id": "35d21969-2a2b-4dcd-98f7-c24eaf063cf2",
   "metadata": {},
   "outputs": [
    {
     "name": "stdout",
     "output_type": "stream",
     "text": [
      "Range = 41.50\n",
      "IQR = 11.65\n",
      "Standard deviation = 8.55\n"
     ]
    },
    {
     "data": {
      "image/png": "[encoded data removed]",
      "text/plain": [
       "<Figure size 640x480 with 1 Axes>"
      ]
     },
     "metadata": {},
     "output_type": "display_data"
    }
   ],
   "source": [
    "min_le, max_le = np.min(life_exp), np.max(life_exp)\n",
    "stdev = np.std(life_exp)\n",
    "Q1 = np.percentile(life_exp,25) \n",
    "Q3 = np.percentile(life_exp,75)\n",
    "\n",
    "print('Range = {:.2f}'.format(max_le-min_le))\n",
    "print('IQR = {:.2f}'.format(Q3-Q1))\n",
    "print('Standard deviation = {:.2f}'.format(stdev))\n",
    "\n",
    "counts, bins = np.histogram(life_exp,int(N/15))\n",
    "plt.hist(bins[:-1], bins, weights=counts)\n",
    "plt.axvline(x=Q1, color='red', label='Q1')\n",
    "plt.axvline(x=Q3, color='red', label='Q3')\n",
    "plt.axvline(x=mean - stdev, color='yellow', label='-sigma')\n",
    "plt.axvline(x=mean + stdev, color='yellow', label='+sigma')\n",
    "plt.legend()\n",
    "plt.show()\n"
   ]
  },
  {
   "cell_type": "markdown",
   "id": "a6094601-7789-4d9f-9383-f30cf9e7aea4",
   "metadata": {},
   "source": [
    "## 5. Sampling from a similar probability distribution\n",
    "\n",
    "- The life expectancy data is real-valued, so one should definitely choose a distribution on the real line.\n",
    "- Life expectancy cannot be negative, so a distribution supported by the positive real line might be a good option.\n",
    "- There is no a priori maximum possible value, so a semi-infinite support might be a better option than a compact support (interval).\n",
    "- On the other hand, none of the distributions on $[0,\\infty)$ which we have discussed have a negative skew.\n",
    "- An example of distribution which we have seen in the lectures and which can has a negative skew is the Beta distribution, which we can rescale to cover the life expectancy range.\n",
    "\n",
    "Other options are possible! The most important feature that needed to be identified were: the positive real support and the skew."
   ]
  },
  {
   "cell_type": "code",
   "execution_count": 13,
   "id": "6f446cc5-db36-4375-9900-398b29aa2bcf",
   "metadata": {},
   "outputs": [
    {
     "data": {
      "image/png": "[encoded data removed]",
      "text/plain": [
       "<Figure size 640x480 with 1 Axes>"
      ]
     },
     "metadata": {},
     "output_type": "display_data"
    }
   ],
   "source": [
    "from scipy.stats import beta\n",
    "a, b = 15, 5\n",
    "r = beta.rvs(a,b,size = N)\n",
    "r = min_le + r * (max_le - min_le)\n",
    "Q1 = np.percentile(r,25) \n",
    "Q2 = np.percentile(r,50)\n",
    "Q3 = np.percentile(r,75)\n",
    "mean = np.mean(r)\n",
    "counts, bins = np.histogram(r,int(N/15))\n",
    "plt.hist(bins[:-1], bins, weights=counts)\n",
    "plt.axvline(x=Q1, color='black', label='Q1: {:.2f}'.format(Q1))\n",
    "plt.axvline(x=Q3, color='black', label='Q3: {:.2f}'.format(Q3))\n",
    "plt.axvline(x=mean, color='red', label='Mean: {:.2f}'.format(mean))\n",
    "plt.axvline(x=Q2, color='yellow', label='Median: {:.2f}'.format(Q2))\n",
    "plt.legend()\n",
    "plt.show()"
   ]
  },
  {
   "cell_type": "code",
   "execution_count": null,
   "id": "baac9909-4758-4f9d-bd8e-454d0c57bfed",
   "metadata": {},
   "outputs": [],
   "source": []
  }
 ],
 "metadata": {
  "kernelspec": {
   "display_name": "Python 3 (ipykernel)",
   "language": "python",
   "name": "python3"
  },
  "language_info": {
   "codemirror_mode": {
    "name": "ipython",
    "version": 3
   },
   "file_extension": ".py",
   "mimetype": "text/x-python",
   "name": "python",
   "nbconvert_exporter": "python",
   "pygments_lexer": "ipython3",
   "version": "3.10.13"
  }
 },
 "nbformat": 4,
 "nbformat_minor": 5
}
